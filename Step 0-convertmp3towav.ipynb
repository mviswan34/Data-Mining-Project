{
 "cells": [
  {
   "cell_type": "code",
   "execution_count": 1,
   "metadata": {},
   "outputs": [],
   "source": [
    "from moviepy.editor import AudioFileClip\n",
    "import os\n",
    "import time\n"
   ]
  },
  {
   "cell_type": "markdown",
   "metadata": {},
   "source": [
    "### Converting to .wav"
   ]
  },
  {
   "cell_type": "code",
   "execution_count": 26,
   "metadata": {},
   "outputs": [],
   "source": [
    "def is_directory_empty(directory):\n",
    "    return not any(os.scandir(directory))\n",
    "# Specify the input MP4 file and output WAV file\n",
    "path = \"videos\"\n",
    "k=[]\n",
    "\n",
    "for folder in os.listdir(path):\n",
    "    input_file = os.listdir(f\"{path}/{folder}\")\n",
    "\n",
    "    for file in input_file:\n",
    "        k.append(file)\n",
    "        name=os.path.splitext(file)\n",
    "        print(name[0])\n",
    "        output_file=f\"{path}/{folder}/{name[0]}.wav\"\n",
    "        print(\"hello\")\n",
    "        print(output_file)\n",
    "        Audio = AudioFileClip(f\"{path}/{folder}/{file}\")\n",
    "        # Write the audio to a WAV file\n",
    "        Audio.write_audiofile(output_file)\n",
    "        \n"
   ]
  },
  {
   "cell_type": "code",
   "execution_count": 23,
   "metadata": {},
   "outputs": [
    {
     "data": {
      "text/plain": [
       "259"
      ]
     },
     "execution_count": 23,
     "metadata": {},
     "output_type": "execute_result"
    }
   ],
   "source": [
    "len(os.listdir(f\"{path}\"))"
   ]
  },
  {
   "cell_type": "code",
   "execution_count": 20,
   "metadata": {},
   "outputs": [
    {
     "data": {
      "text/plain": [
       "259"
      ]
     },
     "execution_count": 20,
     "metadata": {},
     "output_type": "execute_result"
    }
   ],
   "source": [
    "len(k)"
   ]
  },
  {
   "cell_type": "markdown",
   "metadata": {},
   "source": [
    "### Checking for empty folders"
   ]
  },
  {
   "cell_type": "code",
   "execution_count": 15,
   "metadata": {},
   "outputs": [
    {
     "name": "stdout",
     "output_type": "stream",
     "text": [
      "Empty folders:\n"
     ]
    }
   ],
   "source": [
    "# import os\n",
    "\n",
    "# def is_directory_empty(directory):\n",
    "#     return not any(os.scandir(directory))\n",
    "\n",
    "# parent_folder = \"videos\"\n",
    "\n",
    "# # Get a list of all folders within the parent folder\n",
    "# all_folders = [folder for folder in os.listdir(parent_folder) if os.path.isdir(os.path.join(parent_folder, folder))]\n",
    "\n",
    "# # Print names of empty folders\n",
    "# empty_folders = [folder for folder in all_folders if is_directory_empty(os.path.join(parent_folder, folder))]\n",
    "# print(\"Empty folders:\")\n",
    "# for folder in empty_folders:\n",
    "#     print(folder)"
   ]
  },
  {
   "cell_type": "markdown",
   "metadata": {},
   "source": [
    "### Deleting mp3 files"
   ]
  },
  {
   "cell_type": "code",
   "execution_count": 27,
   "metadata": {},
   "outputs": [],
   "source": [
    "# import os\n",
    "\n",
    "# def delete_mp4_files(folder):\n",
    "#     for root, dirs, files in os.walk(folder):\n",
    "#         for file in files:\n",
    "#             if file.lower().endswith(\".mp4\"):\n",
    "#                 file_path = os.path.join(root, file)\n",
    "#                 os.remove(file_path)\n",
    "#                 print(f\"Deleted: {file_path}\")\n",
    "\n",
    "# parent_folder = \"videos\"\n",
    "\n",
    "# # Get a list of all folders within the parent folder\n",
    "# all_folders = [folder for folder in os.listdir(parent_folder) if os.path.isdir(os.path.join(parent_folder, folder))]\n",
    "\n",
    "# # Delete .mp4 files in each folder\n",
    "# for folder in all_folders:\n",
    "#     folder_path = os.path.join(parent_folder, folder)\n",
    "#     delete_mp4_files(folder_path)\n"
   ]
  },
  {
   "cell_type": "markdown",
   "metadata": {},
   "source": [
    "### Delete mp3 copy"
   ]
  },
  {
   "cell_type": "code",
   "execution_count": null,
   "metadata": {},
   "outputs": [],
   "source": [
    "# import os\n",
    "\n",
    "def delete_mp4_files(root_folder):\n",
    "    for folder_name in os.listdir(root_folder):\n",
    "        folder_path = os.path.join(root_folder, folder_name)\n",
    "\n",
    "        if os.path.isdir(folder_path):\n",
    "            for file_name in os.listdir(folder_path):\n",
    "                file_path = os.path.join(folder_path, file_name)\n",
    "\n",
    "                if file_name.endswith('.mp4'):\n",
    "                    os.remove(file_path)\n",
    "                    print(f\"Deleted: {file_path}\")\n",
    "\n",
    "# Replace 'path/to/your/folder' with the actual path to your folder containing the subfolders.\n",
    "delete_mp4_files('./')"
   ]
  }
 ],
 "metadata": {
  "kernelspec": {
   "display_name": "work_env",
   "language": "python",
   "name": "python3"
  },
  "language_info": {
   "codemirror_mode": {
    "name": "ipython",
    "version": 3
   },
   "file_extension": ".py",
   "mimetype": "text/x-python",
   "name": "python",
   "nbconvert_exporter": "python",
   "pygments_lexer": "ipython3",
   "version": "3.11.4"
  }
 },
 "nbformat": 4,
 "nbformat_minor": 2
}
